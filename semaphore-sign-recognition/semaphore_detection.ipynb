{
 "cells": [
  {
   "cell_type": "code",
   "execution_count": 8,
   "id": "c6eeea00-3dac-4391-bc76-e8e5553b2993",
   "metadata": {},
   "outputs": [
    {
     "ename": "ModuleNotFoundError",
     "evalue": "No module named 'mediapipe'",
     "output_type": "error",
     "traceback": [
      "\u001b[1;31m---------------------------------------------------------------------------\u001b[0m",
      "\u001b[1;31mModuleNotFoundError\u001b[0m                       Traceback (most recent call last)",
      "Cell \u001b[1;32mIn[8], line 10\u001b[0m\n\u001b[0;32m      8\u001b[0m \u001b[38;5;28;01mimport\u001b[39;00m \u001b[38;5;21;01mrandom\u001b[39;00m\n\u001b[0;32m      9\u001b[0m \u001b[38;5;28;01mfrom\u001b[39;00m \u001b[38;5;21;01mskimage\u001b[39;00m \u001b[38;5;28;01mimport\u001b[39;00m transform\n\u001b[1;32m---> 10\u001b[0m \u001b[38;5;28;01mimport\u001b[39;00m \u001b[38;5;21;01mmediapipe\u001b[39;00m \u001b[38;5;28;01mas\u001b[39;00m \u001b[38;5;21;01mmp\u001b[39;00m\n",
      "\u001b[1;31mModuleNotFoundError\u001b[0m: No module named 'mediapipe'"
     ]
    }
   ],
   "source": [
    "import os\n",
    "import cv2\n",
    "import pandas as pd\n",
    "import numpy as np\n",
    "import matplotlib.pyplot as plt\n",
    "import tensorflow as tf\n",
    "import datetime as dt\n",
    "import random\n",
    "from skimage import transform\n",
    "import mediapipe as mp"
   ]
  },
  {
   "cell_type": "code",
   "execution_count": 7,
   "id": "bd0c39aa-a903-4ca6-92de-1e2178669187",
   "metadata": {},
   "outputs": [
    {
     "name": "stdout",
     "output_type": "stream",
     "text": [
      "Collecting mediapipe\n",
      "  Downloading mediapipe-0.10.2-cp39-cp39-win_amd64.whl (50.2 MB)\n",
      "     ---------------------------------------- 50.2/50.2 MB 5.3 MB/s eta 0:00:00\n",
      "Requirement already satisfied: attrs>=19.1.0 in c:\\users\\rahul\\desktop\\python\\semaphoredetection\\semaphore\\lib\\site-packages (from mediapipe) (23.1.0)\n",
      "Requirement already satisfied: matplotlib in c:\\users\\rahul\\desktop\\python\\semaphoredetection\\semaphore\\lib\\site-packages (from mediapipe) (3.7.2)\n",
      "Requirement already satisfied: absl-py in c:\\users\\rahul\\desktop\\python\\semaphoredetection\\semaphore\\lib\\site-packages (from mediapipe) (1.4.0)\n",
      "Requirement already satisfied: numpy in c:\\users\\rahul\\desktop\\python\\semaphoredetection\\semaphore\\lib\\site-packages (from mediapipe) (1.24.3)\n",
      "Collecting protobuf<4,>=3.11\n",
      "  Downloading protobuf-3.20.3-cp39-cp39-win_amd64.whl (904 kB)\n",
      "     -------------------------------------- 904.2/904.2 KB 6.3 MB/s eta 0:00:00\n",
      "Requirement already satisfied: flatbuffers>=2.0 in c:\\users\\rahul\\desktop\\python\\semaphoredetection\\semaphore\\lib\\site-packages (from mediapipe) (23.5.26)\n",
      "Collecting opencv-contrib-python\n",
      "  Downloading opencv_contrib_python-4.8.0.74-cp37-abi3-win_amd64.whl (44.8 MB)\n",
      "     ---------------------------------------- 44.8/44.8 MB 5.7 MB/s eta 0:00:00\n",
      "Collecting sounddevice>=0.4.4\n",
      "  Downloading sounddevice-0.4.6-py3-none-win_amd64.whl (199 kB)\n",
      "     -------------------------------------- 199.7/199.7 KB 4.0 MB/s eta 0:00:00\n",
      "Requirement already satisfied: CFFI>=1.0 in c:\\users\\rahul\\desktop\\python\\semaphoredetection\\semaphore\\lib\\site-packages (from sounddevice>=0.4.4->mediapipe) (1.15.1)\n",
      "Requirement already satisfied: importlib-resources>=3.2.0 in c:\\users\\rahul\\desktop\\python\\semaphoredetection\\semaphore\\lib\\site-packages (from matplotlib->mediapipe) (6.0.0)\n",
      "Requirement already satisfied: cycler>=0.10 in c:\\users\\rahul\\desktop\\python\\semaphoredetection\\semaphore\\lib\\site-packages (from matplotlib->mediapipe) (0.11.0)\n",
      "Requirement already satisfied: packaging>=20.0 in c:\\users\\rahul\\desktop\\python\\semaphoredetection\\semaphore\\lib\\site-packages (from matplotlib->mediapipe) (23.1)\n",
      "Requirement already satisfied: fonttools>=4.22.0 in c:\\users\\rahul\\desktop\\python\\semaphoredetection\\semaphore\\lib\\site-packages (from matplotlib->mediapipe) (4.41.1)\n",
      "Requirement already satisfied: contourpy>=1.0.1 in c:\\users\\rahul\\desktop\\python\\semaphoredetection\\semaphore\\lib\\site-packages (from matplotlib->mediapipe) (1.1.0)\n",
      "Requirement already satisfied: kiwisolver>=1.0.1 in c:\\users\\rahul\\desktop\\python\\semaphoredetection\\semaphore\\lib\\site-packages (from matplotlib->mediapipe) (1.4.4)\n",
      "Requirement already satisfied: python-dateutil>=2.7 in c:\\users\\rahul\\desktop\\python\\semaphoredetection\\semaphore\\lib\\site-packages (from matplotlib->mediapipe) (2.8.2)\n",
      "Requirement already satisfied: pillow>=6.2.0 in c:\\users\\rahul\\desktop\\python\\semaphoredetection\\semaphore\\lib\\site-packages (from matplotlib->mediapipe) (10.0.0)\n",
      "Requirement already satisfied: pyparsing<3.1,>=2.3.1 in c:\\users\\rahul\\desktop\\python\\semaphoredetection\\semaphore\\lib\\site-packages (from matplotlib->mediapipe) (3.0.9)\n",
      "Requirement already satisfied: pycparser in c:\\users\\rahul\\desktop\\python\\semaphoredetection\\semaphore\\lib\\site-packages (from CFFI>=1.0->sounddevice>=0.4.4->mediapipe) (2.21)\n",
      "Requirement already satisfied: zipp>=3.1.0 in c:\\users\\rahul\\desktop\\python\\semaphoredetection\\semaphore\\lib\\site-packages (from importlib-resources>=3.2.0->matplotlib->mediapipe) (3.16.2)\n",
      "Requirement already satisfied: six>=1.5 in c:\\users\\rahul\\desktop\\python\\semaphoredetection\\semaphore\\lib\\site-packages (from python-dateutil>=2.7->matplotlib->mediapipe) (1.16.0)\n",
      "Installing collected packages: protobuf, opencv-contrib-python, sounddevice, mediapipe\n",
      "  Attempting uninstall: protobuf\n",
      "    Found existing installation: protobuf 4.23.4\n",
      "    Uninstalling protobuf-4.23.4:\n",
      "      Successfully uninstalled protobuf-4.23.4\n"
     ]
    },
    {
     "name": "stderr",
     "output_type": "stream",
     "text": [
      "ERROR: Could not install packages due to an OSError: [WinError 5] Access is denied: 'C:\\\\Users\\\\Rahul\\\\Desktop\\\\PYTHON\\\\SemaphoreDetection\\\\semaphore\\\\Lib\\\\site-packages\\\\google\\\\~upb\\\\_message.cp39-win_amd64.pyd'\n",
      "Check the permissions.\n",
      "\n",
      "WARNING: You are using pip version 22.0.4; however, version 23.2.1 is available.\n",
      "You should consider upgrading via the 'C:\\Users\\Rahul\\Desktop\\PYTHON\\SemaphoreDetection\\semaphore\\Scripts\\python.exe -m pip install --upgrade pip' command.\n"
     ]
    }
   ],
   "source": [
    "# !pip install opencv-python\n",
    "!pip install mediapipe"
   ]
  },
  {
   "cell_type": "code",
   "execution_count": 4,
   "id": "1c8476dd-577e-441f-af05-9f4224b53081",
   "metadata": {},
   "outputs": [],
   "source": [
    "# !pip install numpy pandas matplotlib tensorflow scikit-image"
   ]
  },
  {
   "cell_type": "code",
   "execution_count": null,
   "id": "42efe9ed-3baa-4a7c-81ba-cb6e9214ea57",
   "metadata": {},
   "outputs": [],
   "source": [
    "%matplotlib inline"
   ]
  },
  {
   "cell_type": "code",
   "execution_count": null,
   "id": "0eba87cc-8fa5-40bf-899f-ce8cb02d3882",
   "metadata": {},
   "outputs": [],
   "source": [
    "seed_constant = 23\n",
    "np.random.seed(seed_constant)\n",
    "random.seed(seed_constant)\n",
    "tf.random.set_seed(seed_constant)"
   ]
  },
  {
   "cell_type": "code",
   "execution_count": null,
   "id": "521852bd-9476-4d4d-915f-bb4a1a6e73db",
   "metadata": {},
   "outputs": [],
   "source": [
    "def total_sample_count(path):\n",
    "    Total_sample=0\n",
    "    for class_name in os.listdir(path):\n",
    "        images = [i for i in os.listdir(f'Images/{class_name}']\n",
    "        print(f'Length of :{class_name}= {len(images)}')\n",
    "        Total_sample+=len(images)\n",
    "    print(f'Total Samples:{Total_sample}')"
   ]
  },
  {
   "cell_type": "code",
   "execution_count": null,
   "id": "1b79d19f-9d2c-45e0-a163-51ff84271e78",
   "metadata": {},
   "outputs": [],
   "source": [
    "total_sample_count('Images')"
   ]
  },
  {
   "cell_type": "code",
   "execution_count": null,
   "id": "d408c8a9-82dc-4130-9632-6a31f37e27c3",
   "metadata": {},
   "outputs": [],
   "source": [
    "# Initialize mediapipe pose class.\n",
    "mp_pose = mp.solutions.pose\n",
    "\n",
    "# Setup the Pose function for images - independently for the images standalone processing.\n",
    "pose_image = mp_pose.Pose(static_image_mode=True, min_detection_confidence=0.5)\n",
    "\n",
    "# Setup the Pose function for videos - for video processing.\n",
    "pose_video = mp_pose.Pose(static_image_mode=False, min_detection_confidence=0.7,\n",
    "                          min_tracking_confidence=0.7)\n",
    "\n",
    "# Initialize mediapipe drawing class - to draw the landmarks points.\n",
    "mp_drawing = mp.solutions.drawing_utils"
   ]
  },
  {
   "cell_type": "code",
   "execution_count": null,
   "id": "7d5baab1-7773-4e5b-89ea-0df2a51dd8ee",
   "metadata": {},
   "outputs": [],
   "source": [
    "def detectPose(image_pose, pose,draw=False, display=False):\n",
    "    flag = True\n",
    "    image_in_RGB = cv2.cvtColor(image_pose, cv2.COLOR_BGR2RGB)\n",
    "    resultant = pose.process(image_in_RGB)\n",
    "    marked_img = np.zeros(image_pose.shape, dtype='uint8')\n",
    "#     marked_img = image_pose\n",
    "    if resultant.pose_landmarks == None:\n",
    "        flag = False\n",
    "        return image_pose, marked_img, flag\n",
    "        \n",
    "    if resultant.pose_landmarks and draw:    \n",
    "        mp_drawing.draw_landmarks(image=marked_img, landmark_list=resultant.pose_landmarks,\n",
    "                                  connections=mp_pose.POSE_CONNECTIONS,\n",
    "                                  landmark_drawing_spec=mp_drawing.DrawingSpec(color=(255,255,255),\n",
    "                                                                               thickness=5, circle_radius=2),\n",
    "                                  connection_drawing_spec=mp_drawing.DrawingSpec(color=(255,255,0),\n",
    "                                                                               thickness=15, circle_radius=3))\n",
    "\n",
    "    if display:\n",
    "            plt.figure(figsize=[5,5])\n",
    "            plt.subplot(121);plt.imshow(image_pose[:,:,::-1]);plt.title(\"Input Image\");plt.axis('off');\n",
    "            plt.subplot(122);plt.imshow(marked_img[:,:,::-1]);plt.title(\"Pose detected Image\");plt.axis('off');\n",
    "\n",
    "    else:\n",
    "        return image_pose, marked_img, flag"
   ]
  },
  {
   "cell_type": "code",
   "execution_count": null,
   "id": "0e8e5eca-466c-47b6-bf95-28cdb93724da",
   "metadata": {},
   "outputs": [],
   "source": []
  }
 ],
 "metadata": {
  "kernelspec": {
   "display_name": "semaphore",
   "language": "python",
   "name": "semaphore"
  },
  "language_info": {
   "codemirror_mode": {
    "name": "ipython",
    "version": 3
   },
   "file_extension": ".py",
   "mimetype": "text/x-python",
   "name": "python",
   "nbconvert_exporter": "python",
   "pygments_lexer": "ipython3",
   "version": "3.9.11"
  }
 },
 "nbformat": 4,
 "nbformat_minor": 5
}
